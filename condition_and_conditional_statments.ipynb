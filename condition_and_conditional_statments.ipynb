{
 "cells": [
  {
   "cell_type": "markdown",
   "id": "1e8f5240-bdf1-4bea-a8c2-38d18b684c5e",
   "metadata": {},
   "source": [
    "# CONDITIONS AND CONDITIONAL STATEMENTS"
   ]
  },
  {
   "cell_type": "markdown",
   "id": "3eeb68bd-4bd8-490c-bca3-f2b25620515a",
   "metadata": {},
   "source": [
    " ubah cara fungsi yang dijalankan, bergantung pada inputnya."
   ]
  },
  {
   "cell_type": "markdown",
   "id": "7df7bcbd-f8c8-4208-9866-e14fd336cdbf",
   "metadata": {},
   "source": [
    "## Conditions ( kondisi )"
   ]
  },
  {
   "cell_type": "markdown",
   "id": "8e3dc827-d5c6-4298-a3a2-e211c6cd99bb",
   "metadata": {},
   "source": [
    "Dalam pemrograman, kondisi adalah pernyataan yang bernilai Benar atau Salah. Ada banyak cara berbeda untuk menulis kondisi dengan Python, namun beberapa cara paling umum untuk menulis kondisi hanya dengan membandingkan dua nilai yang berbeda. Misalnya, Anda dapat memeriksa apakah 2 lebih besar dari 3."
   ]
  },
  {
   "cell_type": "code",
   "execution_count": 7,
   "id": "b0ab9889-92ba-424b-a402-9be2415cb8b0",
   "metadata": {},
   "outputs": [
    {
     "name": "stdout",
     "output_type": "stream",
     "text": [
      "False\n"
     ]
    }
   ],
   "source": [
    "print(2 > 3)"
   ]
  },
  {
   "cell_type": "markdown",
   "id": "926bc807-c3d2-4563-8d87-63340d6e44f1",
   "metadata": {},
   "source": [
    "Dalam Python, operator > adalah operator perbandingan yang digunakan untuk memeriksa apakah nilai di sisi kiri operator lebih besar dari nilai di sisi kanan. Karena 2 tidak lebih besar dari 3, ekspresi bernilai False."
   ]
  },
  {
   "cell_type": "code",
   "execution_count": 9,
   "id": "2a28c7f4-0068-4cdf-bcbe-00ada4ffcbcd",
   "metadata": {},
   "outputs": [
    {
     "name": "stdout",
     "output_type": "stream",
     "text": [
      "False\n",
      "True\n"
     ]
    }
   ],
   "source": [
    "var_one = 1\n",
    "var_two = 2\n",
    "\n",
    "print(var_one < 1)\n",
    "print(var_two >= var_one)"
   ]
  },
  {
   "cell_type": "markdown",
   "id": "8bee2bec-0d07-4fa5-855b-e985ae8fddcd",
   "metadata": {},
   "source": [
    "1. print(var_one < 1): Baris ini memeriksa apakah nilai var_one kurang dari 1 dan mencetak hasilnya. Karena var_one sama dengan 1, dan 1 tidak kurang dari 1, ekspresi bernilai False.\n",
    "2. print(var_two >= var_one): Baris ini memeriksa apakah nilai var_two lebih besar atau sama dengan nilai var_one dan mencetak hasilnya. Karena var_two adalah 2 dan var_one adalah 1, 2 memang lebih besar atau sama dengan 1, sehingga ekspresi bernilai True."
   ]
  },
  {
   "cell_type": "markdown",
   "id": "8a3ad13e-180b-46db-845d-9708dc1fed10",
   "metadata": {},
   "source": [
    "## Conditional statements ( pernyataan bersyarat )"
   ]
  },
  {
   "cell_type": "markdown",
   "id": "3a465e30-4fbc-42e2-ac7c-728520ac9709",
   "metadata": {},
   "source": [
    "Pernyataan bersyarat menggunakan kondisi untuk mengubah cara fungsi Anda berjalan. Mereka memeriksa nilai suatu kondisi, dan jika kondisi tersebut bernilai True, maka blok kode tertentu akan dieksekusi. (Jika tidak, jika kondisinya Salah, maka kode tidak dijalankan.)"
   ]
  },
  {
   "cell_type": "markdown",
   "id": "495cfb5f-932a-415a-9de8-12067460978e",
   "metadata": {},
   "source": [
    "### \"if\" statements"
   ]
  },
  {
   "cell_type": "code",
   "execution_count": 10,
   "id": "e28f6d83-9067-4499-b7f3-83566fa8d2fc",
   "metadata": {},
   "outputs": [],
   "source": [
    "def evaluate_temp(temp):\n",
    "    # Set an initial message\n",
    "    message = \"Normal temperature.\"\n",
    "    # Update value of message only if temperature greater than 38\n",
    "    if temp > 38:\n",
    "        message = \"Fever!\"\n",
    "    return message"
   ]
  },
  {
   "cell_type": "markdown",
   "id": "75778692-2da1-4b6d-a4ee-2d2a356d9c74",
   "metadata": {},
   "source": [
    "Kode ini akan menampilkan pesan yang sesuai berdasarkan suhu yang diteruskan ke fungsi tersebut. Jika suhunya 37 atau lebih rendah, maka akan tercetak \"Suhu normal.\"; jika 38,5 atau lebih, akan muncul tulisan \"Demam!\"."
   ]
  },
  {
   "cell_type": "code",
   "execution_count": 11,
   "id": "959cd3ec-d473-48db-947b-c022a4787162",
   "metadata": {},
   "outputs": [
    {
     "name": "stdout",
     "output_type": "stream",
     "text": [
      "Normal temperature.\n"
     ]
    }
   ],
   "source": [
    "print(evaluate_temp(37))"
   ]
  },
  {
   "cell_type": "markdown",
   "id": "cb5387e2-af8b-4e3c-8dfd-b5ace545c2f8",
   "metadata": {},
   "source": [
    "Jika Anda menggunakan fungsi evaluasi_temp dengan suhu 37, fungsi tersebut akan mengembalikan \"Suhu normal\". karena 37 tidak lebih besar dari 38"
   ]
  },
  {
   "cell_type": "code",
   "execution_count": 12,
   "id": "f2d9e418-f4dc-4159-aa4d-eca735ce4727",
   "metadata": {},
   "outputs": [
    {
     "name": "stdout",
     "output_type": "stream",
     "text": [
      "Fever!\n"
     ]
    }
   ],
   "source": [
    "print(evaluate_temp(39))"
   ]
  },
  {
   "cell_type": "markdown",
   "id": "8fa59b02-6b78-4c25-ae67-edd16388cdaf",
   "metadata": {},
   "source": [
    "Namun, jika suhunya malah 39°C, karena lebih besar dari 38°C, pesan akan diperbarui menjadi \"Fever!\" / demam."
   ]
  },
  {
   "cell_type": "markdown",
   "id": "972b3337-cfe0-4f4e-8373-967ca3dab43c",
   "metadata": {},
   "source": [
    "### \"if ... else\" statements"
   ]
  },
  {
   "cell_type": "code",
   "execution_count": 14,
   "id": "8bb05fd6-0d4c-4a60-90bb-413bdbcbeaf7",
   "metadata": {},
   "outputs": [],
   "source": [
    "def evaluate_temp_with_else(temp):\n",
    "    if temp > 38:\n",
    "        message = \"Fever!\"\n",
    "    else:\n",
    "        message = \"Normal temperature.\"\n",
    "    return message"
   ]
  },
  {
   "cell_type": "markdown",
   "id": "c2bfd350-94f6-40d3-a33b-4e13cf176f89",
   "metadata": {},
   "source": [
    "1. Jika suhu (suhu) lebih besar dari 38, variabel pesan akan disetel ke \"Demam!\".\n",
    "2. Jika suhu tidak lebih besar dari 38 (yaitu 38 atau lebih rendah), maka variabel pesan akan disetel ke \"Suhu normal\".\n",
    "   \n",
    "Fungsi ini akan menghasilkan hasil yang sama seperti fungsi sebelumnya, namun strukturnya berbeda menggunakan pernyataan if-else."
   ]
  },
  {
   "cell_type": "code",
   "execution_count": 15,
   "id": "e6030868-096f-4b3a-b91b-12c02aadd39c",
   "metadata": {},
   "outputs": [
    {
     "name": "stdout",
     "output_type": "stream",
     "text": [
      "Normal temperature.\n"
     ]
    }
   ],
   "source": [
    "print(evaluate_temp_with_else(37))"
   ]
  },
  {
   "cell_type": "markdown",
   "id": "322732da-9cbf-46c4-8c18-d7d013494624",
   "metadata": {},
   "source": [
    "Saat Anda menggunakan fungsi evaluasi_temp_with_else dengan suhu 37, fungsi tersebut akan mengembalikan \"Suhu normal\". karena 37 tidak lebih besar dari 38"
   ]
  },
  {
   "cell_type": "markdown",
   "id": "a2426738-157d-445c-ac3b-af07146e5f0d",
   "metadata": {},
   "source": [
    "## \"if ... elif ... else\" statements"
   ]
  },
  {
   "cell_type": "code",
   "execution_count": 16,
   "id": "35b626c4-d343-40f7-89bd-c4fdc2873de4",
   "metadata": {},
   "outputs": [],
   "source": [
    "def evaluate_temp_with_elif(temp):\n",
    "    if temp > 38:\n",
    "        message = \"Fever!\"\n",
    "    elif temp > 35:\n",
    "        message = \"Normal temperature.\"\n",
    "    else:\n",
    "        message = \"Low temperature.\"\n",
    "    return message"
   ]
  },
  {
   "cell_type": "markdown",
   "id": "649698df-e5ed-413c-b86d-1ede86895343",
   "metadata": {},
   "source": [
    "Fungsi evaluasi_temp_with_elif ini mengevaluasi suhu tertentu (suhu) dan mengembalikan pesan berdasarkan rentang suhu yang berbeda.\n",
    "\n",
    "1. Jika suhu lebih besar dari 38, variabel pesan akan disetel ke \"Demam!\".\n",
    "2. Jika suhu tidak lebih besar dari 38 tetapi lebih besar dari 35, variabel pesan akan disetel ke \"Suhu normal\".\n",
    "3. Jika suhu tidak lebih besar dari 35 (yaitu 35 atau lebih rendah), variabel pesan akan disetel ke \"Suhu rendah.\"."
   ]
  },
  {
   "cell_type": "code",
   "execution_count": 17,
   "id": "e4460daa-3d19-4b87-beeb-2e59603fd488",
   "metadata": {},
   "outputs": [
    {
     "data": {
      "text/plain": [
       "'Normal temperature.'"
      ]
     },
     "execution_count": 17,
     "metadata": {},
     "output_type": "execute_result"
    }
   ],
   "source": [
    "evaluate_temp_with_elif(36)"
   ]
  },
  {
   "cell_type": "markdown",
   "id": "f652fa5b-34bd-49c9-9569-6426b1fa6616",
   "metadata": {},
   "source": [
    "mencoba kasus yang suhunya kurang dari 35°C, Karena kondisional dalam pernyataan \"if\" dan \"elif\" keduanya bernilai False, blok kode di dalam pernyataan \"else\" akan dieksekusi."
   ]
  },
  {
   "cell_type": "code",
   "execution_count": 18,
   "id": "4a5d22cb-690a-4b31-bc3e-f5953dbf78e3",
   "metadata": {},
   "outputs": [
    {
     "data": {
      "text/plain": [
       "'Low temperature.'"
      ]
     },
     "execution_count": 18,
     "metadata": {},
     "output_type": "execute_result"
    }
   ],
   "source": [
    "evaluate_temp_with_elif(34)"
   ]
  },
  {
   "cell_type": "markdown",
   "id": "a71fce96-1d74-4239-8fad-1e91960ebf40",
   "metadata": {},
   "source": [
    "## Example - Calculations"
   ]
  },
  {
   "cell_type": "code",
   "execution_count": 27,
   "id": "6eb4cb22-d83f-44eb-b07d-fbc2caa0f847",
   "metadata": {},
   "outputs": [],
   "source": [
    "def get_taxes(earnings):\n",
    "    if earnings < 12000:\n",
    "        tax_owed = .25 * earnings\n",
    "    else:\n",
    "        tax_owed = .30 * earnings\n",
    "    return tax_owed"
   ]
  },
  {
   "cell_type": "markdown",
   "id": "2bdfaa2f-9a9c-4b6a-a01f-d20f205f53c5",
   "metadata": {},
   "source": [
    "Fungsi get_taxes mengambil satu parameter, yaitu earnings, yang merupakan penghasilan. Fungsi ini menghitung jumlah pajak yang harus dibayarkan berdasarkan penghasilan yang diberikan.\r\n",
    "Dalam versi yang dikoreksi ini, jika penghasilan kurang dari 12000, pajak dihitung dengan tarif 25%, jika tidak, pajak dihitung dengan tarif 30%."
   ]
  },
  {
   "cell_type": "code",
   "execution_count": 28,
   "id": "091a240e-3e8f-4789-83e8-914312f1a3f8",
   "metadata": {},
   "outputs": [
    {
     "name": "stdout",
     "output_type": "stream",
     "text": [
      "2250.0\n",
      "4500.0\n"
     ]
    }
   ],
   "source": [
    "ana_taxes = get_taxes(9000)\n",
    "bob_taxes = get_taxes(15000)\n",
    "\n",
    "print(ana_taxes)\n",
    "print(bob_taxes)"
   ]
  },
  {
   "cell_type": "markdown",
   "id": "7a300fe7-6cfe-4c84-80e2-9acb82f55b64",
   "metadata": {},
   "source": [
    "Output dari kedua pernyataan print() akan bergantung pada penghasilan Ana dan Bob serta logika dalam fungsi get_taxes() yang telah dijelaskan sebelumnya"
   ]
  },
  {
   "cell_type": "markdown",
   "id": "f8dd8dd5-aada-4a77-b912-f4a0c5c832c1",
   "metadata": {},
   "source": [
    "### Example - Multiple \"elif\" statements"
   ]
  },
  {
   "cell_type": "code",
   "execution_count": 29,
   "id": "0c5780cf-ef47-49fa-84e0-82787e1575b2",
   "metadata": {},
   "outputs": [],
   "source": [
    "def get_dose(weight):\n",
    "    # Dosage is 1.25 ml for anyone under 5.2 kg\n",
    "    if weight < 5.2:\n",
    "        dose = 1.25\n",
    "    elif weight < 7.9:\n",
    "        dose = 2.5\n",
    "    elif weight < 10.4:\n",
    "        dose = 3.75\n",
    "    elif weight < 15.9:\n",
    "        dose = 5\n",
    "    elif weight < 21.2:\n",
    "        dose = 7.5\n",
    "    # Dosage is 10 ml for anyone 21.2 kg or over\n",
    "    else:\n",
    "        dose = 10\n",
    "    return dose"
   ]
  },
  {
   "cell_type": "markdown",
   "id": "7fb0fb99-21a8-4763-92c3-1f7cf3fea722",
   "metadata": {},
   "source": [
    "Fungsi get_dose mengambil satu parameter, yaitu weight, yang merupakan berat pasien. Fungsi ini memberikan dosis obat yang sesuai berdasarkan berat pasien.\r\n",
    "\r\n",
    "Berikut adalah penjelasan dosis obat yang diberikan oleh fungsi ini:\r\n",
    "\r\n",
    "1. Jika berat pasien kurang dari 5.2 kg, dosisnya adalah 1.25 ml.\r\n",
    "2. Jika berat pasien kurang dari 7.9 kg (tetapi lebih dari atau sama dengan 5.2 kg), dosisnya adalah 2.5 ml.\r\n",
    "3. Jika berat pasien kurang dari 10.4 kg (tetapi lebih dari atau sama dengan 7.9 kg), dosisnya adalah 3.75 ml.\r\n",
    "4. Jika berat pasien kurang dari 15.9 kg (tetapi lebih dari atau sama dengan 10.4 kg), dosisnya adalah 5 ml.\r\n",
    "5. Jika berat pasien kurang dari 21.2 kg (tetapi lebih dari atau sama dengan 15.9 kg), dosisnya adalah 7.5 ml.\r\n",
    "6. Jika berat pasien 21.2 kg atau lebih, dosisnya adalah 10 ml.ah 10 ml."
   ]
  },
  {
   "cell_type": "code",
   "execution_count": 30,
   "id": "a9955d4b-bf85-4da8-9a52-f6366dbe5940",
   "metadata": {},
   "outputs": [
    {
     "name": "stdout",
     "output_type": "stream",
     "text": [
      "5\n"
     ]
    }
   ],
   "source": [
    "print(get_dose(12))"
   ]
  },
  {
   "cell_type": "markdown",
   "id": "066296de-ac15-4d2c-a3f8-e9a805ecec8d",
   "metadata": {},
   "source": [
    "Karena berat pasien 12 kg berada di antara 10.4 kg dan 15.9 kg, maka dosis yang diberikan akan menjadi 5 ml sesuai dengan pernyataan elif weight < 15.9."
   ]
  }
 ],
 "metadata": {
  "kernelspec": {
   "display_name": "Python 3 (ipykernel)",
   "language": "python",
   "name": "python3"
  },
  "language_info": {
   "codemirror_mode": {
    "name": "ipython",
    "version": 3
   },
   "file_extension": ".py",
   "mimetype": "text/x-python",
   "name": "python",
   "nbconvert_exporter": "python",
   "pygments_lexer": "ipython3",
   "version": "3.11.7"
  }
 },
 "nbformat": 4,
 "nbformat_minor": 5
}
