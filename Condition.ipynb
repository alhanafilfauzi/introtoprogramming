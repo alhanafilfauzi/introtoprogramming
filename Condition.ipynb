{
 "cells": [
  {
   "cell_type": "markdown",
   "metadata": {},
   "source": [
    "# Condition and Conditional Statements"
   ]
  },
  {
   "cell_type": "markdown",
   "metadata": {},
   "source": [
    "Memodifikasi cara kerja fungsi, tergantung pada masukannya."
   ]
  },
  {
   "cell_type": "markdown",
   "metadata": {},
   "source": [
    "## Conditions (Kondisi)"
   ]
  },
  {
   "cell_type": "markdown",
   "metadata": {},
   "source": [
    "Dalam pemrograman, kondisi adalah pernyataan yang bernilai Benar atau Salah. Ada banyak cara berbeda untuk menulis kondisi dalam Python, tetapi beberapa cara paling umum untuk menulis kondisi hanya membandingkan dua nilai yang berbeda. Misalnya, Anda dapat memeriksa apakah 2 lebih besar dari 3."
   ]
  },
  {
   "cell_type": "code",
   "execution_count": 1,
   "metadata": {},
   "outputs": [
    {
     "name": "stdout",
     "output_type": "stream",
     "text": [
      "False\n"
     ]
    }
   ],
   "source": [
    "print(2 > 3)"
   ]
  },
  {
   "cell_type": "markdown",
   "metadata": {},
   "source": [
    "Output dari kode tersebut akan menjadi False. Ini karena pernyataan 2 > 3 mengevaluasi apakah angka 2 lebih besar dari angka 3. Karena 2 tidak lebih besar dari 3, hasilnya adalah False. Jadi, False akan dicetak ke layar sebagai output dari pernyataan print."
   ]
  },
  {
   "cell_type": "code",
   "execution_count": 2,
   "metadata": {},
   "outputs": [
    {
     "name": "stdout",
     "output_type": "stream",
     "text": [
      "False\n",
      "True\n"
     ]
    }
   ],
   "source": [
    "var_one = 1\n",
    "var_two = 2\n",
    "\n",
    "print(var_one < 1)\n",
    "print(var_two >= var_one)"
   ]
  },
  {
   "cell_type": "markdown",
   "metadata": {},
   "source": [
    "Output dari kode tersebut akan terdiri dari dua baris:\n",
    "\n",
    "1. Pada baris pertama, print(var_one < 1) mengevaluasi apakah var_one kurang dari 1. Karena var_one adalah 1, dan 1 tidak kurang dari 1, hasilnya adalah False.\n",
    "2. Pada baris kedua, print(var_two >= var_one) mengevaluasi apakah var_two lebih besar dari atau sama dengan var_one. Karena var_two adalah 2 dan var_one adalah 1, 2 lebih besar dari atau sama dengan 1, sehingga hasilnya adalah True."
   ]
  },
  {
   "cell_type": "markdown",
   "metadata": {},
   "source": [
    "## Conditional Statements (Pernyataan Kondisi)"
   ]
  },
  {
   "cell_type": "markdown",
   "metadata": {},
   "source": [
    "### If Statement (Pernyataan If)"
   ]
  },
  {
   "cell_type": "code",
   "execution_count": 4,
   "metadata": {},
   "outputs": [],
   "source": [
    "def evaluate_temp(temp):\n",
    "    # Set an initial message\n",
    "    message = \"Normal temperature.\"\n",
    "    # Update value of message only if temperature greater than 38\n",
    "    if temp > 38:\n",
    "        message = \"Fever!\"\n",
    "    return message"
   ]
  },
  {
   "cell_type": "markdown",
   "metadata": {},
   "source": [
    "Fungsi evaluate_temp mengambil satu parameter, yaitu temp, yang merupakan suhu yang ingin dievaluasi. Fungsi ini memeriksa apakah suhu melebihi 38 derajat Celsius. Jika ya, itu berarti ada demam dan fungsi akan mengembalikan pesan \"Fever!\". Jika tidak, pesan \"Normal temperature.\" akan dikembalikan."
   ]
  },
  {
   "cell_type": "code",
   "execution_count": 5,
   "metadata": {},
   "outputs": [
    {
     "name": "stdout",
     "output_type": "stream",
     "text": [
      "Normal temperature.\n"
     ]
    }
   ],
   "source": [
    "print(evaluate_temp(37))"
   ]
  },
  {
   "cell_type": "markdown",
   "metadata": {},
   "source": [
    "Panggilan print(evaluate_temp(37)) akan mengevaluasi suhu 37 derajat Celsius menggunakan fungsi evaluate_temp. Karena 37 tidak lebih besar dari 38, pesan yang dikembalikan akan tetap \"Normal temperature.\"."
   ]
  },
  {
   "cell_type": "code",
   "execution_count": 6,
   "metadata": {},
   "outputs": [
    {
     "name": "stdout",
     "output_type": "stream",
     "text": [
      "Fever!\n"
     ]
    }
   ],
   "source": [
    "print(evaluate_temp(39))"
   ]
  },
  {
   "cell_type": "markdown",
   "metadata": {},
   "source": [
    "Panggilan evaluate_temp(39) akan mengevaluasi suhu 39 derajat Celsius menggunakan fungsi evaluate_temp. Karena 39 lebih besar dari 38, maka pesan yang dikembalikan akan menjadi \"Fever!\"."
   ]
  },
  {
   "cell_type": "markdown",
   "metadata": {},
   "source": [
    "### If Else Statement (Pernyataan If Else)"
   ]
  },
  {
   "cell_type": "code",
   "execution_count": 7,
   "metadata": {},
   "outputs": [],
   "source": [
    "def evaluate_temp_with_else(temp):\n",
    "    if temp > 38:\n",
    "        message = \"Fever!\"\n",
    "    else:\n",
    "        message = \"Normal temperature.\"\n",
    "    return message"
   ]
  },
  {
   "cell_type": "markdown",
   "metadata": {},
   "source": [
    "Fungsi evaluate_temp_with_else mirip dengan evaluate_temp sebelumnya, tetapi menggunakan blok else. Ini berarti jika kondisi dalam if tidak terpenuhi (yaitu, jika suhu tidak lebih besar dari 38), maka blok else akan dieksekusi.\n",
    "\n",
    "Jika suhu lebih besar dari 38 derajat Celsius, fungsi ini akan mengembalikan pesan \"Fever!\". Jika tidak, maka pesan yang dikembalikan akan menjadi \"Normal temperature.\"."
   ]
  },
  {
   "cell_type": "code",
   "execution_count": 8,
   "metadata": {},
   "outputs": [
    {
     "name": "stdout",
     "output_type": "stream",
     "text": [
      "Normal temperature.\n"
     ]
    }
   ],
   "source": [
    "print(evaluate_temp_with_else(37))"
   ]
  },
  {
   "cell_type": "markdown",
   "metadata": {},
   "source": [
    "Panggilan evaluate_temp_with_else(37) akan mengevaluasi suhu 37 derajat Celsius menggunakan fungsi evaluate_temp_with_else. Karena 37 tidak lebih besar dari 38, maka blok else akan dieksekusi, dan pesan yang dikembalikan akan menjadi \"Normal temperature.\"."
   ]
  },
  {
   "cell_type": "markdown",
   "metadata": {},
   "source": [
    "### If Elif Else Statement (Pernyataan If Elif Else)"
   ]
  },
  {
   "cell_type": "code",
   "execution_count": 9,
   "metadata": {},
   "outputs": [],
   "source": [
    "def evaluate_temp_with_elif(temp):\n",
    "    if temp > 38:\n",
    "        message = \"Fever!\"\n",
    "    elif temp > 35:\n",
    "        message = \"Normal temperature.\"\n",
    "    else:\n",
    "        message = \"Low temperature.\"\n",
    "    return message"
   ]
  },
  {
   "cell_type": "markdown",
   "metadata": {},
   "source": [
    "Fungsi evaluate_temp_with_elif juga mengevaluasi suhu, namun kali ini dengan penggunaan pernyataan elif (yang merupakan singkatan dari \"else if\"). Ini berarti, pertama-tama, kode akan memeriksa apakah suhu melebihi 38 derajat Celsius. Jika ya, itu akan mengembalikan pesan \"Fever!\".\n",
    "\n",
    "Jika tidak, maka kode akan memeriksa apakah suhu lebih besar dari 35 derajat Celsius. Jika ya, itu akan mengembalikan pesan \"Normal temperature.\".\n",
    "\n",
    "Jika tidak ada kondisi di atas yang terpenuhi, maka blok else akan dieksekusi dan mengembalikan pesan \"Low temperature.\"."
   ]
  },
  {
   "cell_type": "code",
   "execution_count": 10,
   "metadata": {},
   "outputs": [
    {
     "data": {
      "text/plain": [
       "'Normal temperature.'"
      ]
     },
     "execution_count": 10,
     "metadata": {},
     "output_type": "execute_result"
    }
   ],
   "source": [
    "evaluate_temp_with_elif(36)"
   ]
  },
  {
   "cell_type": "markdown",
   "metadata": {},
   "source": [
    "Panggilan evaluate_temp_with_elif(36) akan mengevaluasi suhu 36 derajat Celsius menggunakan fungsi evaluate_temp_with_elif.\n",
    "\n",
    "Karena 36 derajat Celsius tidak memenuhi kondisi pertama if temp > 38, maka kode akan mengevaluasi kondisi kedua elif temp > 35. Karena 36 derajat Celsius memenuhi kondisi tersebut, fungsi akan mengembalikan pesan \"Normal temperature.\"."
   ]
  },
  {
   "cell_type": "code",
   "execution_count": 11,
   "metadata": {},
   "outputs": [
    {
     "data": {
      "text/plain": [
       "'Low temperature.'"
      ]
     },
     "execution_count": 11,
     "metadata": {},
     "output_type": "execute_result"
    }
   ],
   "source": [
    "evaluate_temp_with_elif(34)"
   ]
  },
  {
   "cell_type": "markdown",
   "metadata": {},
   "source": [
    "Panggilan evaluate_temp_with_elif(34) akan mengevaluasi suhu 34 derajat Celsius menggunakan fungsi evaluate_temp_with_elif.\n",
    "\n",
    "Karena 34 derajat Celsius tidak memenuhi kondisi pertama if temp > 38, dan juga tidak memenuhi kondisi kedua elif temp > 35, maka blok else akan dieksekusi. Sehingga, fungsi akan mengembalikan pesan \"Low temperature.\"."
   ]
  },
  {
   "cell_type": "markdown",
   "metadata": {},
   "source": [
    "#### Contoh Kalkulasi"
   ]
  },
  {
   "cell_type": "code",
   "execution_count": 12,
   "metadata": {},
   "outputs": [],
   "source": [
    "def get_taxes(earnings):\n",
    "    if earnings < 12000:\n",
    "        tax_owed = .25 * earnings\n",
    "    else:\n",
    "        tax_owed = .30 * earnings\n",
    "    return tax_owed"
   ]
  },
  {
   "cell_type": "markdown",
   "metadata": {},
   "source": [
    "Fungsi get_taxes mengambil satu parameter, yaitu earnings, yang merupakan penghasilan. Fungsi ini menghitung jumlah pajak yang harus dibayarkan berdasarkan penghasilan yang diberikan.\n",
    "\n",
    "Jika penghasilan kurang dari $12,000, maka pajak yang harus dibayarkan adalah 25% dari penghasilan (0.25 * earnings). Jika penghasilan sama dengan atau melebihi $12,000, maka pajak yang harus dibayarkan adalah 30% dari penghasilan (0.30 * earnings)."
   ]
  },
  {
   "cell_type": "code",
   "execution_count": 13,
   "metadata": {},
   "outputs": [
    {
     "name": "stdout",
     "output_type": "stream",
     "text": [
      "2250.0\n",
      "4500.0\n"
     ]
    }
   ],
   "source": [
    "ana_taxes = get_taxes(9000)\n",
    "bob_taxes = get_taxes(15000)\n",
    "\n",
    "print(ana_taxes)\n",
    "print(bob_taxes)"
   ]
  },
  {
   "cell_type": "markdown",
   "metadata": {},
   "source": [
    "Output dari kedua pernyataan print() akan bergantung pada penghasilan Ana dan Bob serta logika dalam fungsi get_taxes() yang telah dijelaskan sebelumnya. Pajak yang harus dibayarkan oleh Ana adalah $2,250 (25% dari $9,000), sementara pajak yang harus dibayarkan oleh Bob adalah $4,500 (30% dari $15,000)."
   ]
  },
  {
   "cell_type": "markdown",
   "metadata": {},
   "source": [
    "#### Contoh Pernyataan Multiple \"Elif\""
   ]
  },
  {
   "cell_type": "code",
   "execution_count": 14,
   "metadata": {},
   "outputs": [],
   "source": [
    "def get_dose(weight):\n",
    "    # Dosage is 1.25 ml for anyone under 5.2 kg\n",
    "    if weight < 5.2:\n",
    "        dose = 1.25\n",
    "    elif weight < 7.9:\n",
    "        dose = 2.5\n",
    "    elif weight < 10.4:\n",
    "        dose = 3.75\n",
    "    elif weight < 15.9:\n",
    "        dose = 5\n",
    "    elif weight < 21.2:\n",
    "        dose = 7.5\n",
    "    # Dosage is 10 ml for anyone 21.2 kg or over\n",
    "    else:\n",
    "        dose = 10\n",
    "    return dose"
   ]
  },
  {
   "cell_type": "markdown",
   "metadata": {},
   "source": [
    "Fungsi get_dose mengambil satu parameter, yaitu weight, yang merupakan berat pasien. Fungsi ini memberikan dosis obat yang sesuai berdasarkan berat pasien.\n",
    "\n",
    "Berikut adalah penjelasan dosis obat yang diberikan oleh fungsi ini:\n",
    "\n",
    "1. Jika berat pasien kurang dari 5.2 kg, dosisnya adalah 1.25 ml.\n",
    "2. Jika berat pasien kurang dari 7.9 kg (tetapi lebih dari atau sama dengan 5.2 kg), dosisnya adalah 2.5 ml.\n",
    "3. Jika berat pasien kurang dari 10.4 kg (tetapi lebih dari atau sama dengan 7.9 kg), dosisnya adalah 3.75 ml.\n",
    "4. Jika berat pasien kurang dari 15.9 kg (tetapi lebih dari atau sama dengan 10.4 kg), dosisnya adalah 5 ml.\n",
    "5. Jika berat pasien kurang dari 21.2 kg (tetapi lebih dari atau sama dengan 15.9 kg), dosisnya adalah 7.5 ml.\n",
    "6. Jika berat pasien 21.2 kg atau lebih, dosisnya adalah 10 ml."
   ]
  },
  {
   "cell_type": "code",
   "execution_count": 15,
   "metadata": {},
   "outputs": [
    {
     "name": "stdout",
     "output_type": "stream",
     "text": [
      "5\n"
     ]
    }
   ],
   "source": [
    "print(get_dose(12))"
   ]
  },
  {
   "cell_type": "markdown",
   "metadata": {},
   "source": [
    "Panggilan get_dose(12) akan mengevaluasi dosis obat untuk pasien dengan berat 12 kg menggunakan fungsi get_dose.\n",
    "\n",
    "Karena berat pasien 12 kg berada di antara 10.4 kg dan 15.9 kg, maka dosis yang diberikan akan menjadi 5 ml sesuai dengan pernyataan elif weight < 15.9."
   ]
  }
 ],
 "metadata": {
  "kernelspec": {
   "display_name": "Python 3",
   "language": "python",
   "name": "python3"
  },
  "language_info": {
   "codemirror_mode": {
    "name": "ipython",
    "version": 3
   },
   "file_extension": ".py",
   "mimetype": "text/x-python",
   "name": "python",
   "nbconvert_exporter": "python",
   "pygments_lexer": "ipython3",
   "version": "3.12.2"
  }
 },
 "nbformat": 4,
 "nbformat_minor": 2
}
