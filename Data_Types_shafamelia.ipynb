{
 "cells": [
  {
   "cell_type": "markdown",
   "metadata": {},
   "source": [
    "# Data Types\n"
   ]
  },
  {
   "cell_type": "markdown",
   "metadata": {},
   "source": [
    "Setiap kali Anda membuat variabel di Python, variabel tersebut memiliki nilai dengan tipe data yang sesuai. Ada banyak tipe data yang berbeda, seperti bilangan bulat, float, boolean, dan string, yang akan kita bahas dalam pelajaran ini. (Ini hanyalah sebagian kecil dari tipe data yang tersedia - ada juga kamus, set, daftar, tupel, dan masih banyak lagi).\n",
    "\n",
    "Tipe data sangat penting, karena tipe data menentukan jenis tindakan apa yang dapat Anda lakukan dengan data tersebut. Sebagai contoh, Anda dapat membagi dua float, tetapi Anda tidak dapat membagi dua string. Sebagai contoh, 12.0/2.0 masuk akal, tetapi \"kucing\" / \"anjing\" tidak masuk akal.\n",
    "\n",
    "Untuk menghindari kesalahan, kita perlu memastikan bahwa aksi-aksi tersebut sesuai dengan tipe data yang kita miliki."
   ]
  },
  {
   "cell_type": "markdown",
   "metadata": {},
   "source": [
    "# Integer"
   ]
  },
  {
   "cell_type": "markdown",
   "metadata": {},
   "source": [
    "Integer adalah angka tanpa bagian pecahan dan dapat bernilai positif (1, 2, 3, ...), negatif (-1, -2, -3, ...), atau nol (0).\n",
    "\n",
    "Pada sel kode di bawah ini, kita menetapkan variabel x menjadi bilangan bulat. Kita kemudian memverifikasi tipe data dengan type(), dan hanya perlu memasukkan nama variabel ke dalam tanda kurung."
   ]
  },
  {
   "cell_type": "code",
   "execution_count": null,
   "metadata": {},
   "outputs": [],
   "source": [
    "x = 14\n",
    "print(x)\n",
    "print(type(x))"
   ]
  },
  {
   "cell_type": "markdown",
   "metadata": {},
   "source": [
    "Kode di atas menetapkan variabel x dengan nilai 14, kemudian mencetak nilai x dan tipe datanya. Ini menunjukkan bahwa x adalah bilangan bulat (int)."
   ]
  },
  {
   "cell_type": "markdown",
   "metadata": {},
   "source": [
    "# Float"
   ]
  },
  {
   "cell_type": "markdown",
   "metadata": {},
   "source": [
    "Float adalah angka dengan bagian pecahan. Angka ini dapat memiliki banyak angka setelah desimal."
   ]
  },
  {
   "cell_type": "code",
   "execution_count": null,
   "metadata": {},
   "outputs": [],
   "source": [
    "nearly_pi = 3.141592653589793238462643383279502884197169399375105820974944\n",
    "print(nearly_pi)\n",
    "print(type(nearly_pi))"
   ]
  },
  {
   "cell_type": "markdown",
   "metadata": {},
   "source": [
    "Kode yang Anda berikan menetapkan variabel nearly_pi dengan nilai hampir pi, kemudian mencetak nilai nearly_pi dan tipe datanya. Ini menunjukkan bahwa nearly_pi adalah bilangan pecahan (float). "
   ]
  },
  {
   "cell_type": "code",
   "execution_count": null,
   "metadata": {},
   "outputs": [],
   "source": [
    "y_float = 1.\n",
    "print(y_float)\n",
    "print(type(y_float))"
   ]
  },
  {
   "cell_type": "markdown",
   "metadata": {},
   "source": [
    "Kode yang Anda berikan menetapkan variabel y_float dengan nilai 1.0 (sebuah bilangan pecahan), kemudian mencetak nilai y_float dan tipe datanya. Ini menunjukkan bahwa y_float adalah bilangan pecahan (float). "
   ]
  },
  {
   "cell_type": "markdown",
   "metadata": {},
   "source": [
    "# Boolean"
   ]
  },
  {
   "cell_type": "markdown",
   "metadata": {},
   "source": [
    "Boolean mewakili salah satu dari dua nilai: Benar atau Salah. Pada sel kode di bawah ini, z_one diatur ke boolean dengan nilai True."
   ]
  },
  {
   "cell_type": "code",
   "execution_count": null,
   "metadata": {},
   "outputs": [],
   "source": [
    "z_one = True\n",
    "print(z_one)\n",
    "print(type(z_one))"
   ]
  },
  {
   "cell_type": "markdown",
   "metadata": {},
   "source": [
    "Selanjutnya, z_two diatur ke boolean dengan nilai False"
   ]
  },
  {
   "cell_type": "code",
   "execution_count": null,
   "metadata": {},
   "outputs": [],
   "source": [
    "z_two = False\n",
    "print(z_two)\n",
    "print(type(z_two))"
   ]
  },
  {
   "cell_type": "markdown",
   "metadata": {},
   "source": [
    "Boolean digunakan untuk merepresentasikan nilai kebenaran dari sebuah ekspresi. Karena 1 < 2 adalah pernyataan yang benar, maka z_three memiliki nilai True."
   ]
  },
  {
   "cell_type": "code",
   "execution_count": null,
   "metadata": {},
   "outputs": [],
   "source": [
    "z_three = (1 < 2)\n",
    "print(z_three)\n",
    "print(type(z_three))"
   ]
  },
  {
   "cell_type": "markdown",
   "metadata": {},
   "source": [
    "Kita dapat mengganti nilai boolean dengan menggunakan not. Jadi, not True setara dengan False, dan not False menjadi True."
   ]
  },
  {
   "cell_type": "code",
   "execution_count": null,
   "metadata": {},
   "outputs": [],
   "source": [
    "z_four = (5<3)\n",
    "z_five = not z_four\n",
    "print(z_five)\n",
    "print(type(z_five))"
   ]
  },
  {
   "cell_type": "markdown",
   "metadata": {},
   "source": [
    "# String"
   ]
  },
  {
   "cell_type": "markdown",
   "metadata": {},
   "source": [
    "Tipe data string adalah kumpulan karakter (seperti huruf alfabet, tanda baca, angka, atau simbol) yang terkandung dalam tanda kutip. String biasanya digunakan untuk merepresentasikan teks."
   ]
  },
  {
   "cell_type": "code",
   "execution_count": null,
   "metadata": {},
   "outputs": [],
   "source": [
    "w = \"Hello, Python!\"\n",
    "print(w)\n",
    "print(type(w))"
   ]
  },
  {
   "cell_type": "markdown",
   "metadata": {},
   "source": [
    "Anda bisa mendapatkan panjang sebuah string dengan len(). \"Halo, Python!\" memiliki panjang 14, karena memiliki 14 karakter, termasuk spasi, koma, dan tanda seru. Perhatikan bahwa tanda petik tidak disertakan saat menghitung panjangnya."
   ]
  },
  {
   "cell_type": "code",
   "execution_count": null,
   "metadata": {},
   "outputs": [],
   "source": [
    "print(len(w))"
   ]
  },
  {
   "cell_type": "markdown",
   "metadata": {},
   "source": [
    "Satu jenis string khusus adalah string kosong, yang memiliki panjang nol."
   ]
  },
  {
   "cell_type": "code",
   "execution_count": null,
   "metadata": {},
   "outputs": [],
   "source": [
    "shortest_string = \"\"\n",
    "print(type(shortest_string))\n",
    "print(len(shortest_string))"
   ]
  },
  {
   "cell_type": "markdown",
   "metadata": {},
   "source": [
    "Jika Anda meletakkan angka dalam tanda kutip, angka tersebut memiliki tipe data string."
   ]
  },
  {
   "cell_type": "code",
   "execution_count": null,
   "metadata": {},
   "outputs": [],
   "source": [
    "my_number = \"1.12321\"\n",
    "print(my_number)\n",
    "print(type(my_number))"
   ]
  },
  {
   "cell_type": "markdown",
   "metadata": {},
   "source": [
    "Jika kita memiliki sebuah string yang dapat dikonversi menjadi float, kita dapat menggunakan float().\n",
    "\n",
    "Hal ini tidak selalu berhasil! Sebagai contoh, kita dapat mengubah \"10.43430\" dan \"3\" menjadi float, tetapi kita tidak dapat mengubah \"Hello, Python!\" menjadi float."
   ]
  },
  {
   "cell_type": "code",
   "execution_count": null,
   "metadata": {},
   "outputs": [],
   "source": [
    "also_my_number = float(my_number)\n",
    "print(also_my_number)\n",
    "print(type(also_my_number))"
   ]
  },
  {
   "cell_type": "markdown",
   "metadata": {},
   "source": [
    "Sama seperti Anda dapat menambahkan dua angka (float atau bilangan bulat), Anda juga dapat menambahkan dua string. Hal ini akan menghasilkan string yang lebih panjang yang menggabungkan dua string asli dengan menggabungkannya."
   ]
  },
  {
   "cell_type": "code",
   "execution_count": null,
   "metadata": {},
   "outputs": [],
   "source": [
    "new_string = \"abc\" + \"def\"\n",
    "print(new_string)\n",
    "print(type(new_string))"
   ]
  },
  {
   "cell_type": "markdown",
   "metadata": {},
   "source": [
    "Perhatikan bahwa Anda tidak dapat melakukan pengurangan atau pembagian dengan dua buah string. Anda juga tidak dapat mengalikan dua string, tetapi Anda dapat mengalikan string dengan bilangan bulat. Hal ini sekali lagi menghasilkan string yang hanya berupa string asli yang digabungkan dengan dirinya sendiri beberapa kali."
   ]
  },
  {
   "cell_type": "code",
   "execution_count": null,
   "metadata": {},
   "outputs": [],
   "source": [
    "newest_string = \"abc\" * 3\n",
    "print(newest_string)\n",
    "print(type(newest_string))"
   ]
  },
  {
   "cell_type": "markdown",
   "metadata": {},
   "source": [
    "Perhatikan bahwa Anda tidak dapat mengalikan string dengan float! Mencoba melakukan hal tersebut akan menghasilkan kesalahan."
   ]
  },
  {
   "cell_type": "code",
   "execution_count": null,
   "metadata": {},
   "outputs": [],
   "source": [
    "will_not_work = \"abc\" * 3."
   ]
  },
  {
   "cell_type": "markdown",
   "metadata": {},
   "source": [
    "Dalam kesalahan tersebut, \"urutan\" adalah string \"abc\", dan \"bukan tipe 'float'\" adalah float (3.). Jadi, pesan kesalahan dapat ditulis ulang menjadi \"tidak dapat mengalikan string dengan float\"."
   ]
  }
 ],
 "metadata": {
  "kernelspec": {
   "display_name": "Python 3",
   "language": "python",
   "name": "python3"
  },
  "language_info": {
   "codemirror_mode": {
    "name": "ipython",
    "version": 3
   },
   "file_extension": ".py",
   "mimetype": "text/x-python",
   "name": "python",
   "nbconvert_exporter": "python",
   "pygments_lexer": "ipython3",
   "version": "3.11.8"
  }
 },
 "nbformat": 4,
 "nbformat_minor": 2
}
