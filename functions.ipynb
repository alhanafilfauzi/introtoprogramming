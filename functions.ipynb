{
 "cells": [
  {
   "cell_type": "code",
   "execution_count": 1,
   "id": "34f773af",
   "metadata": {
    "_cell_guid": "b1076dfc-b9ad-4769-8c92-a6c4dae69d19",
    "_uuid": "8f2839f25d086af736a60e9eeb907d3b93b6e0e5",
    "execution": {
     "iopub.execute_input": "2024-03-14T04:42:25.516726Z",
     "iopub.status.busy": "2024-03-14T04:42:25.515932Z",
     "iopub.status.idle": "2024-03-14T04:42:26.338195Z",
     "shell.execute_reply": "2024-03-14T04:42:26.337045Z"
    },
    "papermill": {
     "duration": 0.836518,
     "end_time": "2024-03-14T04:42:26.340776",
     "exception": false,
     "start_time": "2024-03-14T04:42:25.504258",
     "status": "completed"
    },
    "tags": []
   },
   "outputs": [],
   "source": [
    "# This Python 3 environment comes with many helpful analytics libraries installed\n",
    "# It is defined by the kaggle/python Docker image: https://github.com/kaggle/docker-python\n",
    "# For example, here's several helpful packages to load\n",
    "\n",
    "import numpy as np # linear algebra\n",
    "import pandas as pd # data processing, CSV file I/O (e.g. pd.read_csv)\n",
    "\n",
    "# Input data files are available in the read-only \"../input/\" directory\n",
    "# For example, running this (by clicking run or pressing Shift+Enter) will list all files under the input directory\n",
    "\n",
    "import os\n",
    "for dirname, _, filenames in os.walk('/kaggle/input'):\n",
    "    for filename in filenames:\n",
    "        print(os.path.join(dirname, filename))\n",
    "\n",
    "# You can write up to 20GB to the current directory (/kaggle/working/) that gets preserved as output when you create a version using \"Save & Run All\" \n",
    "# You can also write temporary files to /kaggle/temp/, but they won't be saved outside of the current session"
   ]
  },
  {
   "cell_type": "markdown",
   "id": "31e507b3",
   "metadata": {
    "papermill": {
     "duration": 0.008716,
     "end_time": "2024-03-14T04:42:26.359014",
     "exception": false,
     "start_time": "2024-03-14T04:42:26.350298",
     "status": "completed"
    },
    "tags": []
   },
   "source": [
    "Functions"
   ]
  },
  {
   "cell_type": "markdown",
   "id": "5fb38ddd",
   "metadata": {
    "papermill": {
     "duration": 0.008714,
     "end_time": "2024-03-14T04:42:26.376614",
     "exception": false,
     "start_time": "2024-03-14T04:42:26.367900",
     "status": "completed"
    },
    "tags": []
   },
   "source": [
    "Pengenalan fungsi: contoh sederhana Kita mulai dengan contoh sederhana dari sebuah fungsi. Fungsi add_three() di bawah ini menerima angka apa pun, menambahkan tiga ke dalamnya, dan kemudian mengembalikan hasilnya."
   ]
  },
  {
   "cell_type": "markdown",
   "id": "47a77b66",
   "metadata": {
    "papermill": {
     "duration": 0.010094,
     "end_time": "2024-03-14T04:42:26.396134",
     "exception": false,
     "start_time": "2024-03-14T04:42:26.386040",
     "status": "completed"
    },
    "tags": []
   },
   "source": [
    "Fungsi sendiri dibagi menjadi dua bagian, yaitu header dan body"
   ]
  },
  {
   "cell_type": "markdown",
   "id": "621d6e49",
   "metadata": {
    "papermill": {
     "duration": 0.008793,
     "end_time": "2024-03-14T04:42:26.413745",
     "exception": false,
     "start_time": "2024-03-14T04:42:26.404952",
     "status": "completed"
    },
    "tags": []
   },
   "source": [
    "Header"
   ]
  },
  {
   "cell_type": "markdown",
   "id": "d037a057",
   "metadata": {
    "papermill": {
     "duration": 0.008577,
     "end_time": "2024-03-14T04:42:26.431166",
     "exception": false,
     "start_time": "2024-03-14T04:42:26.422589",
     "status": "completed"
    },
    "tags": []
   },
   "source": [
    "Fungsi header mendefinisikan nama fungsi dan argumennya, setiap header fungsi dimulai dengan def, yang akan memberi tahu python bahwa kita akan mendefinisikan sebuah fungsi."
   ]
  },
  {
   "cell_type": "code",
   "execution_count": 2,
   "id": "7e26bb32",
   "metadata": {
    "execution": {
     "iopub.execute_input": "2024-03-14T04:42:26.450896Z",
     "iopub.status.busy": "2024-03-14T04:42:26.450351Z",
     "iopub.status.idle": "2024-03-14T04:42:26.455315Z",
     "shell.execute_reply": "2024-03-14T04:42:26.454478Z"
    },
    "papermill": {
     "duration": 0.017432,
     "end_time": "2024-03-14T04:42:26.457430",
     "exception": false,
     "start_time": "2024-03-14T04:42:26.439998",
     "status": "completed"
    },
    "tags": []
   },
   "outputs": [],
   "source": [
    "# Define the function\n",
    "def add_three(input_var):\n",
    "    output_var = input_var + 3\n",
    "    return output_var"
   ]
  },
  {
   "cell_type": "markdown",
   "id": "1987f266",
   "metadata": {
    "papermill": {
     "duration": 0.008658,
     "end_time": "2024-03-14T04:42:26.474979",
     "exception": false,
     "start_time": "2024-03-14T04:42:26.466321",
     "status": "completed"
    },
    "tags": []
   },
   "source": [
    "Kode tersebut adalah definisi dari sebuah fungsi Python yang bernama add_three. Fungsi ini mengambil satu parameter yang disebut input_var, yang kemudian menambahkan 3 ke nilai tersebut dan mengembalikan hasilnya"
   ]
  },
  {
   "cell_type": "markdown",
   "id": "6969ff7e",
   "metadata": {
    "papermill": {
     "duration": 0.008638,
     "end_time": "2024-03-14T04:42:26.492424",
     "exception": false,
     "start_time": "2024-03-14T04:42:26.483786",
     "status": "completed"
    },
    "tags": []
   },
   "source": [
    "contoh nama fungsi adalah add_three, Fungsi add_three didefinisikan dengan menggunakan kata kunci def. yang memberi tahu python bahwa kita akan mendefinisikan sebuah fungsi.\n",
    "\n",
    "lalu Parameter/argumen fungsi adalah input_var, argumen adalah nama variabel yang akan digunakan sebagai input fungsi. Argumen ini selalu diapit oleh tanda kurung yang muncul setelah nama fungsi Perhatikan bahwa sebuah fungsi juga dapat tidak memiliki argumen, atau dapat memiliki beberapa argumen. Anda akan melihat beberapa contohnya nanti dalam pelajaran ini). Untuk setiap fungsi, tanda kurung yang mengurung argumen fungsi harus diikuti dengan tanda titik dua :\n",
    "\n",
    "selanjutnya Dalam fungsi, nilai dari input_var ditambahkan dengan 3 dan disimpan dalam variabel output_var.\n",
    "\n",
    "Kemudian, nilai dari output_var dikembalikan menggunakan kata kunci return."
   ]
  },
  {
   "cell_type": "code",
   "execution_count": 3,
   "id": "990363ba",
   "metadata": {
    "execution": {
     "iopub.execute_input": "2024-03-14T04:42:26.511946Z",
     "iopub.status.busy": "2024-03-14T04:42:26.511547Z",
     "iopub.status.idle": "2024-03-14T04:42:26.517093Z",
     "shell.execute_reply": "2024-03-14T04:42:26.516008Z"
    },
    "papermill": {
     "duration": 0.01798,
     "end_time": "2024-03-14T04:42:26.519335",
     "exception": false,
     "start_time": "2024-03-14T04:42:26.501355",
     "status": "completed"
    },
    "tags": []
   },
   "outputs": [
    {
     "name": "stdout",
     "output_type": "stream",
     "text": [
      "8\n"
     ]
    }
   ],
   "source": [
    "#Contoh penggunaan fungsi\n",
    "result = add_three(5)\n",
    "print(result)  # Output: 8"
   ]
  },
  {
   "cell_type": "markdown",
   "id": "b7906e60",
   "metadata": {
    "papermill": {
     "duration": 0.00867,
     "end_time": "2024-03-14T04:42:26.537004",
     "exception": false,
     "start_time": "2024-03-14T04:42:26.528334",
     "status": "completed"
    },
    "tags": []
   },
   "source": [
    "Pada contoh di atas, ketika fungsi add_three dipanggil dengan argumen 5, maka nilai yang dikembalikan adalah 5 + 3 = 8, yang kemudian akan dicetak."
   ]
  },
  {
   "cell_type": "markdown",
   "id": "e3f2a085",
   "metadata": {
    "papermill": {
     "duration": 0.008645,
     "end_time": "2024-03-14T04:42:26.554477",
     "exception": false,
     "start_time": "2024-03-14T04:42:26.545832",
     "status": "completed"
    },
    "tags": []
   },
   "source": [
    "Body"
   ]
  },
  {
   "cell_type": "markdown",
   "id": "abeff598",
   "metadata": {
    "papermill": {
     "duration": 0.008606,
     "end_time": "2024-03-14T04:42:26.572064",
     "exception": false,
     "start_time": "2024-03-14T04:42:26.563458",
     "status": "completed"
    },
    "tags": []
   },
   "source": [
    "fungsi body menentukan pekerjaan yang dilakukan oleh fungsi tersebut.\n",
    "Setiap baris kode dalam badan fungsi harus menjorok ke dalam tepat empat spasi. \n"
   ]
  },
  {
   "cell_type": "code",
   "execution_count": 4,
   "id": "e8fa2d7d",
   "metadata": {
    "execution": {
     "iopub.execute_input": "2024-03-14T04:42:26.591938Z",
     "iopub.status.busy": "2024-03-14T04:42:26.590990Z",
     "iopub.status.idle": "2024-03-14T04:42:26.595293Z",
     "shell.execute_reply": "2024-03-14T04:42:26.594583Z"
    },
    "papermill": {
     "duration": 0.016537,
     "end_time": "2024-03-14T04:42:26.597393",
     "exception": false,
     "start_time": "2024-03-14T04:42:26.580856",
     "status": "completed"
    },
    "tags": []
   },
   "outputs": [],
   "source": [
    "# CONTOH\n",
    "def add_three(input_var):\n",
    "    output_var = input_var + 3\n",
    "    return output_var"
   ]
  },
  {
   "cell_type": "markdown",
   "id": "7a8a0728",
   "metadata": {
    "papermill": {
     "duration": 0.009481,
     "end_time": "2024-03-14T04:42:26.616352",
     "exception": false,
     "start_time": "2024-03-14T04:42:26.606871",
     "status": "completed"
    },
    "tags": []
   },
   "source": [
    "Fungsi ini melakukan tugasnya dengan menjalankan semua baris indentasi dari atas ke bawah.\n",
    "\n",
    "Fungsi ini mengambil argumen sebagai input, yang dalam contoh ini adalah input_var.\n",
    "\n",
    "Fungsi ini membuat variabel baru output_var dengan perhitungan output_var = input_var + 3.\n",
    "\n",
    "Kemudian, baris terakhir dari kode, yang disebut pernyataan return, hanya mengembalikan nilai dalam output_var sebagai keluaran fungsi.\n",
    "\n",
    "Sel kode di atas hanya mendefinisikan fungsi, tetapi tidak menjalankannya. Rincian badan fungsi akan lebih masuk akal setelah sel kode berikutnya, ketika kita benar-benar menjalankan fungsi tersebut.\n"
   ]
  },
  {
   "cell_type": "markdown",
   "id": "d8a3b418",
   "metadata": {
    "papermill": {
     "duration": 0.00882,
     "end_time": "2024-03-14T04:42:26.635046",
     "exception": false,
     "start_time": "2024-03-14T04:42:26.626226",
     "status": "completed"
    },
    "tags": []
   },
   "source": [
    "Cara menjalankan (atau \"memanggil\") suatu fungsi"
   ]
  },
  {
   "cell_type": "markdown",
   "id": "4f8e6c3b",
   "metadata": {
    "papermill": {
     "duration": 0.008762,
     "end_time": "2024-03-14T04:42:26.652695",
     "exception": false,
     "start_time": "2024-03-14T04:42:26.643933",
     "status": "completed"
    },
    "tags": []
   },
   "source": [
    "Ketika kita menjalankan sebuah fungsi, ini juga dapat disebut sebagai \"memanggil\" fungsi tersebut.\n",
    "\n",
    "Pada sel kode di bawah ini, kita menjalankan fungsi dengan 10 sebagai nilai input. Kami mendefinisikan variabel baru new_number yang diatur ke output fungsi."
   ]
  },
  {
   "cell_type": "code",
   "execution_count": 5,
   "id": "820e7024",
   "metadata": {
    "execution": {
     "iopub.execute_input": "2024-03-14T04:42:26.672304Z",
     "iopub.status.busy": "2024-03-14T04:42:26.671902Z",
     "iopub.status.idle": "2024-03-14T04:42:26.677140Z",
     "shell.execute_reply": "2024-03-14T04:42:26.676104Z"
    },
    "papermill": {
     "duration": 0.017739,
     "end_time": "2024-03-14T04:42:26.679371",
     "exception": false,
     "start_time": "2024-03-14T04:42:26.661632",
     "status": "completed"
    },
    "tags": []
   },
   "outputs": [
    {
     "name": "stdout",
     "output_type": "stream",
     "text": [
      "13\n"
     ]
    }
   ],
   "source": [
    "# Run the function with 10 as input\n",
    "new_number = add_three(10)\n",
    "\n",
    "# Check that the value is 13, as expected\n",
    "print(new_number)"
   ]
  },
  {
   "cell_type": "markdown",
   "id": "714264a0",
   "metadata": {
    "papermill": {
     "duration": 0.009281,
     "end_time": "2024-03-14T04:42:26.698100",
     "exception": false,
     "start_time": "2024-03-14T04:42:26.688819",
     "status": "completed"
    },
    "tags": []
   },
   "source": [
    "add_three(10) adalah nilai yang kita dapatkan sebagai output ketika kita memberikan 10 sebagai nilai untuk input_var dan memanggil fungsi add_three(). \n",
    "\n",
    "Ketika fungsi ini berjalan, ia menjalankan semua kode di dalam Body, dari atas ke bawah:\n",
    "Pertama-tama, fungsi ini menghitung output_var = input_var + 3, yang menetapkan output_var = 13.\n",
    "Baris terakhir dari kode adalah pernyataan return, yang mengembalikan nilai output_var, yaitu 13.\n",
    "Dengan mengatur new_number = add_three(10), kita mengatur new_number = 13."
   ]
  },
  {
   "cell_type": "markdown",
   "id": "bae089a0",
   "metadata": {
    "papermill": {
     "duration": 0.008842,
     "end_time": "2024-03-14T04:42:26.716544",
     "exception": false,
     "start_time": "2024-03-14T04:42:26.707702",
     "status": "completed"
    },
    "tags": []
   },
   "source": [
    "Catatan: Ketika kita secara kasual merujuk ke fungsi add_three() dalam tutorial ini, kita menggunakan tanda kurung penutup kosong setelah nama fungsi. Hal ini konsisten dengan cara orang pada umumnya menulis penjelasan kode Python, dan tanda kurung kosong hanya untuk memperjelas bahwa kita mengacu pada sebuah fungsi, bukan variabel atau objek Python lainnya. Tanda kurung ini harus selalu kosong, meskipun fungsi tersebut memiliki argumen."
   ]
  },
  {
   "cell_type": "markdown",
   "id": "6da372b1",
   "metadata": {
    "papermill": {
     "duration": 0.008741,
     "end_time": "2024-03-14T04:42:26.734270",
     "exception": false,
     "start_time": "2024-03-14T04:42:26.725529",
     "status": "completed"
    },
    "tags": []
   },
   "source": [
    "Memberi nama fungsi"
   ]
  },
  {
   "cell_type": "markdown",
   "id": "82c4164d",
   "metadata": {
    "papermill": {
     "duration": 0.008968,
     "end_time": "2024-03-14T04:42:26.752176",
     "exception": false,
     "start_time": "2024-03-14T04:42:26.743208",
     "status": "completed"
    },
    "tags": []
   },
   "source": [
    "Pada contoh di atas, nama fungsi telah dipilihkan untuk Anda. Apabila menamai fungsi Anda sendiri, Anda sebaiknya menggunakan huruf kecil saja, dengan kata-kata yang dipisahkan oleh garis bawah, bukan spasi.\n",
    "\n",
    "Penamaan fungsi akan terasa alami seiring berjalannya waktu, dan wajar jika awalnya terasa tidak nyaman. "
   ]
  },
  {
   "cell_type": "markdown",
   "id": "8876216c",
   "metadata": {
    "papermill": {
     "duration": 0.008779,
     "end_time": "2024-03-14T04:42:26.769826",
     "exception": false,
     "start_time": "2024-03-14T04:42:26.761047",
     "status": "completed"
    },
    "tags": []
   },
   "source": [
    "contoh lain :"
   ]
  },
  {
   "cell_type": "markdown",
   "id": "2b2d0b47",
   "metadata": {
    "papermill": {
     "duration": 0.008726,
     "end_time": "2024-03-14T04:42:26.787536",
     "exception": false,
     "start_time": "2024-03-14T04:42:26.778810",
     "status": "completed"
    },
    "tags": []
   },
   "source": [
    "Setelah Anda memahami dasar-dasarnya, kita dapat beralih ke contoh dengan perhitungan yang lebih panjang.\n",
    "\n",
    "Katakanlah Anda membantu seorang teman untuk menghitung gaji mingguan mereka setelah pajak.\n",
    "\n",
    "Mereka berada dalam golongan pajak 12% (dengan kata lain, 12% dari gaji mereka dipotong untuk pajak, dan mereka hanya membawa pulang 88%), dan\n",
    "Mereka dibayar per jam, dengan tarif $15/jam.\n",
    "\n",
    "Fungsi di bawah ini menghitung gaji berdasarkan jumlah jam kerja. Fungsi ini lebih rumit dibandingkan dengan contoh pertama, karena fungsi ini memiliki lebih banyak baris kode dan komentar. Mirip dengan contoh di atas, fungsi ini memiliki satu argumen (num jam). Di badan fungsi, kita:\n",
    "\n",
    "Gunakan nilai untuk num_hours untuk menentukan nilai untuk variabel baru pay_pretax.\n",
    "Gunakan nilai dari pay_pretax untuk menentukan nilai untuk variabel baru pay_aftertax.\n",
    "Mengembalikan nilai variabel pay_aftertax."
   ]
  },
  {
   "cell_type": "code",
   "execution_count": 6,
   "id": "04e393f0",
   "metadata": {
    "execution": {
     "iopub.execute_input": "2024-03-14T04:42:26.807428Z",
     "iopub.status.busy": "2024-03-14T04:42:26.806768Z",
     "iopub.status.idle": "2024-03-14T04:42:26.811059Z",
     "shell.execute_reply": "2024-03-14T04:42:26.810307Z"
    },
    "papermill": {
     "duration": 0.016522,
     "end_time": "2024-03-14T04:42:26.812977",
     "exception": false,
     "start_time": "2024-03-14T04:42:26.796455",
     "status": "completed"
    },
    "tags": []
   },
   "outputs": [],
   "source": [
    "def get_pay(num_hours):\n",
    "    # Pre-tax pay, based on receiving $15/hour\n",
    "    pay_pretax = num_hours * 15\n",
    "    # After-tax pay, based on being in 12% tax bracket\n",
    "    pay_aftertax = pay_pretax * (1 - .12)\n",
    "    return pay_aftertax"
   ]
  },
  {
   "cell_type": "markdown",
   "id": "7899e660",
   "metadata": {
    "papermill": {
     "duration": 0.008712,
     "end_time": "2024-03-14T04:42:26.830740",
     "exception": false,
     "start_time": "2024-03-14T04:42:26.822028",
     "status": "completed"
    },
    "tags": []
   },
   "source": [
    "Kita memanggil fungsi ini dengan cara yang sama seperti memanggil fungsi pertama. Sel kode berikutnya menghitung gaji, berdasarkan jam kerja 40 jam. (Setelah pajak, gajinya adalah $528.)"
   ]
  },
  {
   "cell_type": "code",
   "execution_count": 7,
   "id": "2db057c7",
   "metadata": {
    "execution": {
     "iopub.execute_input": "2024-03-14T04:42:26.851365Z",
     "iopub.status.busy": "2024-03-14T04:42:26.850734Z",
     "iopub.status.idle": "2024-03-14T04:42:26.855894Z",
     "shell.execute_reply": "2024-03-14T04:42:26.854815Z"
    },
    "papermill": {
     "duration": 0.017509,
     "end_time": "2024-03-14T04:42:26.857813",
     "exception": false,
     "start_time": "2024-03-14T04:42:26.840304",
     "status": "completed"
    },
    "tags": []
   },
   "outputs": [
    {
     "name": "stdout",
     "output_type": "stream",
     "text": [
      "528.0\n"
     ]
    }
   ],
   "source": [
    "# Calculate pay based on working 40 hours\n",
    "pay_fulltime = get_pay(40)\n",
    "print(pay_fulltime)"
   ]
  },
  {
   "cell_type": "markdown",
   "id": "0239d31e",
   "metadata": {
    "papermill": {
     "duration": 0.008965,
     "end_time": "2024-03-14T04:42:26.875742",
     "exception": false,
     "start_time": "2024-03-14T04:42:26.866777",
     "status": "completed"
    },
    "tags": []
   },
   "source": [
    "Untuk menghitung gaji dengan cepat berdasarkan jumlah jam kerja yang berbeda, Anda perlu memberikan fungsi dengan angka yang berbeda. Misalnya, katakanlah teman Anda bekerja 32 jam. (Maka, mereka akan mendapatkan $422,40.)\n"
   ]
  },
  {
   "cell_type": "code",
   "execution_count": 8,
   "id": "17d7d20d",
   "metadata": {
    "execution": {
     "iopub.execute_input": "2024-03-14T04:42:26.895930Z",
     "iopub.status.busy": "2024-03-14T04:42:26.895082Z",
     "iopub.status.idle": "2024-03-14T04:42:26.900475Z",
     "shell.execute_reply": "2024-03-14T04:42:26.899394Z"
    },
    "papermill": {
     "duration": 0.018038,
     "end_time": "2024-03-14T04:42:26.902838",
     "exception": false,
     "start_time": "2024-03-14T04:42:26.884800",
     "status": "completed"
    },
    "tags": []
   },
   "outputs": [
    {
     "name": "stdout",
     "output_type": "stream",
     "text": [
      "422.4\n"
     ]
    }
   ],
   "source": [
    "pay_parttime = get_pay(32)\n",
    "print(pay_parttime)"
   ]
  },
  {
   "cell_type": "markdown",
   "id": "51c948b4",
   "metadata": {
    "papermill": {
     "duration": 0.008836,
     "end_time": "2024-03-14T04:42:26.920765",
     "exception": false,
     "start_time": "2024-03-14T04:42:26.911929",
     "status": "completed"
    },
    "tags": []
   },
   "source": [
    "Karena Anda menulis sebuah fungsi, Anda dapat menghitung gaji untuk jam kerja yang berbeda tanpa harus menulis ulang semua kode dalam penghitungan lagi.\n",
    "\n",
    "Fungsi dapat membantu Anda menghindari kesalahan dalam kode Anda, dan Anda menghemat banyak waktu. Secara umum, ketika membuat kode, Anda harus berusaha untuk menulis sesedikit mungkin, karena setiap kali Anda mengetikkan perhitungan, itu adalah kesempatan lain untuk secara tidak sengaja membuat kesalahan ketik atau kesalahan."
   ]
  },
  {
   "cell_type": "markdown",
   "id": "3e9d17c3",
   "metadata": {
    "papermill": {
     "duration": 0.008948,
     "end_time": "2024-03-14T04:42:26.938760",
     "exception": false,
     "start_time": "2024-03-14T04:42:26.929812",
     "status": "completed"
    },
    "tags": []
   },
   "source": [
    "Variable \"scope\""
   ]
  },
  {
   "cell_type": "markdown",
   "id": "e5997b44",
   "metadata": {
    "papermill": {
     "duration": 0.008909,
     "end_time": "2024-03-14T04:42:26.956775",
     "exception": false,
     "start_time": "2024-03-14T04:42:26.947866",
     "status": "completed"
    },
    "tags": []
   },
   "source": [
    "Variabel yang didefinisikan di dalam badan fungsi tidak dapat diakses di luar fungsi. Misalnya, sel kode berikut ini salah, karena pay_aftertax hanya ada di dalam fungsi."
   ]
  },
  {
   "cell_type": "code",
   "execution_count": 9,
   "id": "2da0f124",
   "metadata": {
    "execution": {
     "iopub.execute_input": "2024-03-14T04:42:26.977242Z",
     "iopub.status.busy": "2024-03-14T04:42:26.976198Z",
     "iopub.status.idle": "2024-03-14T04:42:27.289311Z",
     "shell.execute_reply": "2024-03-14T04:42:27.287862Z"
    },
    "papermill": {
     "duration": 0.325388,
     "end_time": "2024-03-14T04:42:27.291182",
     "exception": true,
     "start_time": "2024-03-14T04:42:26.965794",
     "status": "failed"
    },
    "tags": []
   },
   "outputs": [
    {
     "ename": "NameError",
     "evalue": "name 'pay_aftertax' is not defined",
     "output_type": "error",
     "traceback": [
      "\u001b[0;31m---------------------------------------------------------------------------\u001b[0m",
      "\u001b[0;31mNameError\u001b[0m                                 Traceback (most recent call last)",
      "Cell \u001b[0;32mIn[9], line 1\u001b[0m\n\u001b[0;32m----> 1\u001b[0m \u001b[38;5;28mprint\u001b[39m(\u001b[43mpay_aftertax\u001b[49m)\n",
      "\u001b[0;31mNameError\u001b[0m: name 'pay_aftertax' is not defined"
     ]
    }
   ],
   "source": [
    "print(pay_aftertax)"
   ]
  },
  {
   "cell_type": "code",
   "execution_count": null,
   "id": "32c84685",
   "metadata": {
    "execution": {
     "iopub.status.busy": "2024-03-14T04:41:04.324062Z",
     "iopub.status.idle": "2024-03-14T04:41:04.324924Z",
     "shell.execute_reply": "2024-03-14T04:41:04.324624Z",
     "shell.execute_reply.started": "2024-03-14T04:41:04.324599Z"
    },
    "papermill": {
     "duration": null,
     "end_time": null,
     "exception": null,
     "start_time": null,
     "status": "pending"
    },
    "tags": []
   },
   "outputs": [],
   "source": [
    "---------------------------------------------------------------------------\n",
    "NameError                                 Traceback (most recent call last)\n",
    "/tmp/ipykernel_19/2991332200.py in <module>\n",
    "----> 1 print(pay_aftertax)\n",
    "\n",
    "NameError: name 'pay_aftertax' is not defined"
   ]
  },
  {
   "cell_type": "markdown",
   "id": "06c7f87e",
   "metadata": {
    "papermill": {
     "duration": null,
     "end_time": null,
     "exception": null,
     "start_time": null,
     "status": "pending"
    },
    "tags": []
   },
   "source": [
    "Anda akan mendapatkan kesalahan yang sama jika Anda mencoba mencetak pay_pretax atau num_hours. Untuk alasan ini, jika Anda membutuhkan informasi dari sebuah fungsi, Anda harus memastikan bahwa informasi tersebut muncul dalam pernyataan return di akhir fungsi.\n",
    "\n",
    "Kami menyebut variabel scope sebagai bagian dari kode yang dapat diakses. Variabel yang didefinisikan di dalam sebuah fungsi (seperti pay_aftertax) hanya memiliki rlokal scope dari fungsi tersebut. Namun, seperti yang telah Anda lihat, variabel yang didefinisikan di luar semua fungsi (seperti pay_parttime) memiliki global scope dan dapat diakses di mana saja."
   ]
  },
  {
   "cell_type": "markdown",
   "id": "193b340e",
   "metadata": {
    "papermill": {
     "duration": null,
     "end_time": null,
     "exception": null,
     "start_time": null,
     "status": "pending"
    },
    "tags": []
   },
   "source": [
    "Functions dengan multiple arguments"
   ]
  },
  {
   "cell_type": "markdown",
   "id": "978e1a32",
   "metadata": {
    "papermill": {
     "duration": null,
     "end_time": null,
     "exception": null,
     "start_time": null,
     "status": "pending"
    },
    "tags": []
   },
   "source": [
    "Untuk mendefinisikan fungsi dengan banyak argumen, Anda hanya perlu menambahkan lebih banyak argumen di dalam tanda kurung di kepala fungsi dan memisahkannya dengan koma.\n",
    "\n",
    "Kami melakukan ini dengan fungsi get_pay_with_more_inputs() di bawah ini, yang menghitung gaji mingguan berdasarkan tiga argumen:\n",
    "\n",
    "num_jam - jumlah jam kerja dalam satu minggu\n",
    "upah_per_jam - upah per jam (dalam $/jam)\n",
    "tax_bracket - persentase dari gaji Anda yang dipotong untuk pajak"
   ]
  },
  {
   "cell_type": "code",
   "execution_count": null,
   "id": "a750884f",
   "metadata": {
    "execution": {
     "iopub.status.busy": "2024-03-14T04:41:04.326509Z",
     "iopub.status.idle": "2024-03-14T04:41:04.327339Z",
     "shell.execute_reply": "2024-03-14T04:41:04.327081Z",
     "shell.execute_reply.started": "2024-03-14T04:41:04.327056Z"
    },
    "papermill": {
     "duration": null,
     "end_time": null,
     "exception": null,
     "start_time": null,
     "status": "pending"
    },
    "tags": []
   },
   "outputs": [],
   "source": [
    "def get_pay_with_more_inputs(num_hours, hourly_wage, tax_bracket):\n",
    "    # Pre-tax pay\n",
    "    pay_pretax = num_hours * hourly_wage\n",
    "    # After-tax pay\n",
    "    pay_aftertax = pay_pretax * (1 - tax_bracket)\n",
    "    return pay_aftertax"
   ]
  },
  {
   "cell_type": "markdown",
   "id": "f88f2658",
   "metadata": {
    "papermill": {
     "duration": null,
     "end_time": null,
     "exception": null,
     "start_time": null,
     "status": "pending"
    },
    "tags": []
   },
   "source": [
    "Kemudian, untuk memanggil fungsi tersebut, Anda perlu memberikan satu nilai untuk setiap inputnya, sekali lagi dipisahkan dengan tanda koma.\n",
    "\n",
    "Pada sel kode di bawah ini, kami menghitung gaji setelah pajak untuk seseorang yang bekerja selama 40 jam, menghasilkan $24/jam, dan berada dalam golongan pajak 22%."
   ]
  },
  {
   "cell_type": "code",
   "execution_count": null,
   "id": "32d78333",
   "metadata": {
    "execution": {
     "iopub.execute_input": "2024-03-14T04:41:04.356446Z",
     "iopub.status.busy": "2024-03-14T04:41:04.355831Z",
     "iopub.status.idle": "2024-03-14T04:41:04.386650Z",
     "shell.execute_reply": "2024-03-14T04:41:04.384802Z",
     "shell.execute_reply.started": "2024-03-14T04:41:04.356416Z"
    },
    "papermill": {
     "duration": null,
     "end_time": null,
     "exception": null,
     "start_time": null,
     "status": "pending"
    },
    "tags": []
   },
   "outputs": [],
   "source": [
    "higher_pay_aftertax = get_pay_with_more_inputs(40, 24, .22)\n",
    "print(higher_pay_aftertax)"
   ]
  },
  {
   "cell_type": "markdown",
   "id": "ba4c3bdb",
   "metadata": {
    "papermill": {
     "duration": null,
     "end_time": null,
     "exception": null,
     "start_time": null,
     "status": "pending"
    },
    "tags": []
   },
   "source": [
    "Sel kode berikut ini memberikan hasil yang sama seperti ketika kita menjalankan get_pay(40), karena hourly_wage diatur ke 15, dan tax_bracket diatur ke 12%, yang sesuai dengan bagaimana kita mendesain get_pay"
   ]
  },
  {
   "cell_type": "code",
   "execution_count": null,
   "id": "13b74d0d",
   "metadata": {
    "execution": {
     "iopub.status.busy": "2024-03-14T04:41:04.387595Z",
     "iopub.status.idle": "2024-03-14T04:41:04.388736Z",
     "shell.execute_reply": "2024-03-14T04:41:04.387863Z",
     "shell.execute_reply.started": "2024-03-14T04:41:04.387845Z"
    },
    "papermill": {
     "duration": null,
     "end_time": null,
     "exception": null,
     "start_time": null,
     "status": "pending"
    },
    "tags": []
   },
   "outputs": [],
   "source": [
    "same_pay_fulltime = get_pay_with_more_inputs(40, 15, .12)\n",
    "print(same_pay_fulltime)"
   ]
  },
  {
   "cell_type": "markdown",
   "id": "1d523150",
   "metadata": {
    "papermill": {
     "duration": null,
     "end_time": null,
     "exception": null,
     "start_time": null,
     "status": "pending"
    },
    "tags": []
   },
   "source": [
    "Tergantung pada bagaimana kita berencana untuk menggunakan fungsi baru ini get_pay_with_more_input(), fungsi ini bisa lebih berguna daripada fungsi asli get_pay(), karena fungsi ini menangani lebih banyak kasus. Daripada mengasumsikan upah per jam dan golongan pajak secara tidak tepat, fungsi baru ini memungkinkan pengguna untuk menentukan nilai yang benar.\n",
    "Namun, jika Anda yakin bahwa upah per jam dan kelompok pajak tidak perlu diubah, fungsi baru ini hanya akan menjadi lebih rumit daripada yang diperlukan. Secara umum, ketika mendefinisikan fungsi, Anda perlu mempertimbangkan seberapa besar fleksibilitas yang Anda butuhkan, berdasarkan kasus penggunaan Anda."
   ]
  },
  {
   "cell_type": "markdown",
   "id": "7cdd81dc",
   "metadata": {
    "papermill": {
     "duration": null,
     "end_time": null,
     "exception": null,
     "start_time": null,
     "status": "pending"
    },
    "tags": []
   },
   "source": [
    "Fungsi tanpa argumen"
   ]
  },
  {
   "cell_type": "markdown",
   "id": "689b4bbd",
   "metadata": {
    "papermill": {
     "duration": null,
     "end_time": null,
     "exception": null,
     "start_time": null,
     "status": "pending"
    },
    "tags": []
   },
   "source": [
    "Perhatikan bahwa Anda dapat mendefinisikan fungsi tanpa argumen, dan tidak memiliki pernyataan pengembalian. Fungsi print_hello() pada sel kode di bawah ini adalah sebuah contoh."
   ]
  },
  {
   "cell_type": "code",
   "execution_count": null,
   "id": "12590272",
   "metadata": {
    "execution": {
     "iopub.status.busy": "2024-03-14T04:41:04.391582Z",
     "iopub.status.idle": "2024-03-14T04:41:04.392061Z",
     "shell.execute_reply": "2024-03-14T04:41:04.391865Z",
     "shell.execute_reply.started": "2024-03-14T04:41:04.391846Z"
    },
    "papermill": {
     "duration": null,
     "end_time": null,
     "exception": null,
     "start_time": null,
     "status": "pending"
    },
    "tags": []
   },
   "outputs": [],
   "source": [
    "# Define the function with no arguments and with no return\n",
    "def print_hello():\n",
    "    print(\"Hello, you!\")\n",
    "    print(\"Good morning!\")\n",
    "    \n",
    "# Call the function\n",
    "print_hello()"
   ]
  },
  {
   "cell_type": "markdown",
   "id": "a8706f48",
   "metadata": {
    "papermill": {
     "duration": null,
     "end_time": null,
     "exception": null,
     "start_time": null,
     "status": "pending"
    },
    "tags": []
   },
   "source": [
    "Kode di atas mendefinisikan sebuah fungsi Python yang bernama print_hello. Fungsi ini tidak memiliki argumen (tidak menerima masukan apa pun) dan tidak mengembalikan nilai (tidak menggunakan pernyataan return). Fungsi ini hanya bertujuan untuk mencetak dua kalimat salam ke konsol:\n",
    "\n",
    "\"Hello, you!\"\n",
    "\"Good morning!\"\n",
    "Setelah mendefinisikan fungsi print_hello, kita memanggilnya dengan menggunakan pernyataan print_hello(). Ketika fungsi dipanggil, dua kalimat tersebut akan dicetak ke konsol."
   ]
  },
  {
   "cell_type": "code",
   "execution_count": null,
   "id": "9736aedd",
   "metadata": {
    "execution": {
     "iopub.status.busy": "2024-03-14T04:41:04.393901Z",
     "iopub.status.idle": "2024-03-14T04:41:04.395115Z",
     "shell.execute_reply": "2024-03-14T04:41:04.394879Z",
     "shell.execute_reply.started": "2024-03-14T04:41:04.394852Z"
    },
    "papermill": {
     "duration": null,
     "end_time": null,
     "exception": null,
     "start_time": null,
     "status": "pending"
    },
    "tags": []
   },
   "outputs": [],
   "source": [
    "#contoh penggunaan\n",
    "print_hello()\n"
   ]
  },
  {
   "cell_type": "code",
   "execution_count": null,
   "id": "5591412f",
   "metadata": {
    "execution": {
     "iopub.execute_input": "2024-03-14T04:41:04.422362Z",
     "iopub.status.busy": "2024-03-14T04:41:04.421316Z",
     "iopub.status.idle": "2024-03-14T04:41:04.429266Z",
     "shell.execute_reply": "2024-03-14T04:41:04.427800Z",
     "shell.execute_reply.started": "2024-03-14T04:41:04.422320Z"
    },
    "papermill": {
     "duration": null,
     "end_time": null,
     "exception": null,
     "start_time": null,
     "status": "pending"
    },
    "tags": []
   },
   "outputs": [],
   "source": [
    "#output\n",
    "Hello, you!\n",
    "Good morning!"
   ]
  },
  {
   "cell_type": "markdown",
   "id": "e0b3e0e4",
   "metadata": {
    "papermill": {
     "duration": null,
     "end_time": null,
     "exception": null,
     "start_time": null,
     "status": "pending"
    },
    "tags": []
   },
   "source": [
    "Dengan demikian, kode tersebut hanya mencetak dua kalimat salam tanpa menerima atau mengembalikan nilai apapun."
   ]
  }
 ],
 "metadata": {
  "kaggle": {
   "accelerator": "none",
   "dataSources": [],
   "dockerImageVersionId": 30664,
   "isGpuEnabled": false,
   "isInternetEnabled": false,
   "language": "python",
   "sourceType": "notebook"
  },
  "kernelspec": {
   "display_name": "Python 3",
   "language": "python",
   "name": "python3"
  },
  "language_info": {
   "codemirror_mode": {
    "name": "ipython",
    "version": 3
   },
   "file_extension": ".py",
   "mimetype": "text/x-python",
   "name": "python",
   "nbconvert_exporter": "python",
   "pygments_lexer": "ipython3",
   "version": "3.10.13"
  },
  "papermill": {
   "default_parameters": {},
   "duration": 5.306548,
   "end_time": "2024-03-14T04:42:27.821564",
   "environment_variables": {},
   "exception": true,
   "input_path": "__notebook__.ipynb",
   "output_path": "__notebook__.ipynb",
   "parameters": {},
   "start_time": "2024-03-14T04:42:22.515016",
   "version": "2.5.0"
  }
 },
 "nbformat": 4,
 "nbformat_minor": 5
}
